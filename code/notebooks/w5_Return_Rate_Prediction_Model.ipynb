{
 "cells": [
  {
   "cell_type": "markdown",
   "metadata": {},
   "source": [
    "# Week 05 Return Rate Prediction Model"
   ]
  },
  {
   "cell_type": "markdown",
   "metadata": {},
   "source": [
    "For stock price prediction, our real prediction goal is daily return. The reasons are as follows:\n",
    "1. The rate of return is stable: Fluctuations in stock prices may be affected by a variety of factors, including market noise, emotions, and macroeconomics.\n",
    "Data etc. This can make price predictions relatively difficult. In contrast, yields offset these effects somewhat, so that to some extent\n",
    "more stable.\n",
    "2. Relatively stable return distribution: The distribution of return is relatively stable and more consistent with statistical assumptions, making predictions based on statistical models more reliable.\n",
    "Depend on. This also helps deep learning models learn patterns better.\n",
    "3. Avoid data magnitude differences: Stock prices usually have a large value range, while return rates are relatively small. Predicting returns can\n",
    "Avoiding order-of-magnitude differences in input data helps train stable models.\n",
    "4. Short-term forecasts are relatively more stable: Price changes in the short term are usually affected by fewer non-fundamental factors and are relatively easier to predict. pre\n",
    "The measured rate of return may have more reference value in the short term.\n",
    "Daily return can be directly calculated from stock price data and used as our target.\n"
   ]
  },
  {
   "cell_type": "markdown",
   "metadata": {},
   "source": [
    "Refer to the paper Prediction of stock return by LSTM neural network and use these stock data to train a daily\n",
    "return prediction model.\n",
    "When building the model, please refer to Machine Learning Models Predicting Returns: Why Most Popular\n",
    "Performance Metrics Are Misleading and Proposal for an Efficient Metric, use more investment income-based\n",
    "Algorithms evaluate model capabilities.\n"
   ]
  },
  {
   "cell_type": "markdown",
   "metadata": {},
   "source": []
  }
 ],
 "metadata": {
  "language_info": {
   "name": "python"
  }
 },
 "nbformat": 4,
 "nbformat_minor": 2
}
